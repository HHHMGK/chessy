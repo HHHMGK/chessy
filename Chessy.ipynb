{
  "nbformat": 4,
  "nbformat_minor": 0,
  "metadata": {
    "colab": {
      "provenance": [],
      "collapsed_sections": [
        "-b1CLhYWtMNf"
      ]
    },
    "kernelspec": {
      "name": "python3",
      "display_name": "Python 3"
    },
    "language_info": {
      "name": "python"
    }
  },
  "cells": [
    {
      "cell_type": "markdown",
      "source": [
        "# chessy\n",
        "Transfer online chess game image into encoded string\n",
        "FEN \\\\\n",
        "This notebook is designed to run on Google Colab."
      ],
      "metadata": {
        "id": "0ZY5SBibPXgy"
      }
    },
    {
      "cell_type": "markdown",
      "source": [
        "## Requirements"
      ],
      "metadata": {
        "id": "-b1CLhYWtMNf"
      }
    },
    {
      "cell_type": "code",
      "source": [
        "!git clone https://github.com/HHHMGK/chessy.git\n",
        "%cd chessy"
      ],
      "metadata": {
        "colab": {
          "base_uri": "https://localhost:8080/"
        },
        "id": "YaROT5s3Gdft",
        "outputId": "fcbac7c3-e4ef-41da-dfe6-5cc8f75067e6"
      },
      "execution_count": 8,
      "outputs": [
        {
          "output_type": "stream",
          "name": "stdout",
          "text": [
            "fatal: destination path 'chessy' already exists and is not an empty directory.\n",
            "/content/chessy\n"
          ]
        }
      ]
    },
    {
      "cell_type": "code",
      "execution_count": 9,
      "metadata": {
        "id": "BZMMKYKyPNwI"
      },
      "outputs": [],
      "source": [
        "import cv2\n",
        "from PIL import Image\n",
        "from google.colab.patches import cv2_imshow\n",
        "import numpy as np"
      ]
    },
    {
      "cell_type": "markdown",
      "source": [
        "## Load and Preprocess"
      ],
      "metadata": {
        "id": "Ny_8ICXCtRaY"
      }
    },
    {
      "cell_type": "markdown",
      "source": [
        "Image loading, custom grayscale for transparent background"
      ],
      "metadata": {
        "id": "jvQevJmL8it9"
      }
    },
    {
      "cell_type": "code",
      "source": [
        "def loadImage(path, show=False, customgray=False):\n",
        "    img = cv2.imread(path, cv2.IMREAD_UNCHANGED)\n",
        "    if customgray:\n",
        "        nimg = cv2.cvtColor(img, cv2.COLOR_BGR2GRAY)\n",
        "        for i in range(nimg.shape[0]):\n",
        "            for j in range(nimg.shape[1]):\n",
        "                if img[i][j][3] == 0:\n",
        "                    nimg[i][j] = 128\n",
        "        img = nimg\n",
        "    else:\n",
        "        img = cv2.cvtColor(img, cv2.COLOR_BGR2GRAY)\n",
        "    if show:\n",
        "        cv2_imshow(img)\n",
        "        print(img.shape)\n",
        "    return img"
      ],
      "metadata": {
        "id": "xtdt1ze5QVb8"
      },
      "execution_count": 10,
      "outputs": []
    },
    {
      "cell_type": "markdown",
      "source": [
        "Find and crop the image to contain the chessboard only"
      ],
      "metadata": {
        "id": "dCDTJq0TQ7m7"
      }
    },
    {
      "cell_type": "code",
      "source": [
        "# find and draw chessboard corners\n",
        "def cropChessboard(img, show=False):\n",
        "    r = 7\n",
        "    c = 7\n",
        "    found, corners = cv2.findChessboardCorners(img, (r,c), None)\n",
        "    if found == False:\n",
        "        print(\"Chessboard not found.\")\n",
        "        return None\n",
        "    # Crop image to only board\n",
        "    corners = np.floor(np.squeeze(corners)).astype(int)\n",
        "    sq_size = corners[1][0] - corners[0][0]\n",
        "    top_left = (corners[0][0]-sq_size, corners[0][1]-sq_size)\n",
        "    b_width = 8 * sq_size\n",
        "    b_height = 8 * sq_size\n",
        "    img = img[top_left[1]+1:top_left[1]+b_height+1, top_left[0]+1:top_left[0]+b_width+1]\n",
        "    if show:\n",
        "        cv2_imshow(img)\n",
        "        print(\"Shape: \", img.shape)\n",
        "        print(\"Square size: \", sq_size)\n",
        "    return img, sq_size"
      ],
      "metadata": {
        "id": "VhM_-JuQRHbj"
      },
      "execution_count": 11,
      "outputs": []
    },
    {
      "cell_type": "markdown",
      "source": [
        "Split the board into 8x8 images of squares"
      ],
      "metadata": {
        "id": "7b-8m0Y881ul"
      }
    },
    {
      "cell_type": "code",
      "source": [
        "def splitBoard(img, sq_size, show=False):\n",
        "    img = np.reshape(img, (img.shape[0]//sq_size, sq_size, img.shape[1]//sq_size, sq_size))\n",
        "    # img = np.swapaxes(np.swapaxes(img, 1, 2), 0, 1)\n",
        "    img = np.swapaxes(img, 1, 2)\n",
        "    if show:\n",
        "        for i in range(0, 8):\n",
        "            for j in range(0, 8):\n",
        "                cv2_imshow(img[i][j])\n",
        "    return img\n"
      ],
      "metadata": {
        "id": "auLKP_BGtXFP"
      },
      "execution_count": 12,
      "outputs": []
    },
    {
      "cell_type": "markdown",
      "source": [
        "Load and process Piece sprites"
      ],
      "metadata": {
        "id": "ePL0BZpl83Xy"
      }
    },
    {
      "cell_type": "code",
      "source": [
        "pieces = [\n",
        "    \"K\", \"Q\", \"B\", \"N\", \"R\", \"P\",\n",
        "    \"k\", \"q\", \"b\", \"n\", \"r\", \"p\", \" \"\n",
        "]\n",
        "\n",
        "def spriteToPieces(img, show=False):\n",
        "    p_size = img.shape[1] // 6\n",
        "    # resize to 1D array, each p_size x p_size\n",
        "    img = np.reshape(img, (2, p_size, 6, p_size))\n",
        "    img = np.swapaxes(img, 1, 2)\n",
        "    img = np.reshape(img, (12, p_size, p_size))\n",
        "    print(img.shape)\n",
        "    if show:\n",
        "        for i in range(0, 12):\n",
        "            print(pieces[i])\n",
        "            cv2_imshow(img[i])\n",
        "    return img"
      ],
      "metadata": {
        "id": "_1_ghCmhzrtg"
      },
      "execution_count": 13,
      "outputs": []
    },
    {
      "cell_type": "markdown",
      "source": [
        "## SIFT and BF Matcher for Piece Recognition"
      ],
      "metadata": {
        "id": "2fpHiHmb9I32"
      }
    },
    {
      "cell_type": "code",
      "source": [
        "p_sheet = loadImage('data/pieces/sprite2.png', show=True, customgray=True)\n",
        "p_sheet = spriteToPieces(p_sheet, show=True)\n",
        "\n",
        "sift = cv2.SIFT_create()\n",
        "kp = []\n",
        "des = []\n",
        "for i in range(0, 12):\n",
        "    kp_i, des_i = sift.detectAndCompute(p_sheet[i], None)\n",
        "    kp.append(kp_i)\n",
        "    des.append(des_i)\n",
        "    cv2_imshow(p_sheet[i])\n",
        "\n",
        "bf = cv2.BFMatcher()\n",
        "def pieceRecognizer(img):\n",
        "    max = 0\n",
        "    index = -1\n",
        "    qk, qd = sift.detectAndCompute(img, None)\n",
        "    for i in range(0, 12):\n",
        "        matches = bf.knnMatch(qd, des[i], k=2)\n",
        "        good = []\n",
        "        for m, n in matches:\n",
        "            if m.distance < 0.8 * n.distance:\n",
        "                good.append([m])\n",
        "        if len(good) > max:\n",
        "            max = len(good)\n",
        "            index = i\n",
        "\n",
        "    return pieces[index]"
      ],
      "metadata": {
        "colab": {
          "base_uri": "https://localhost:8080/",
          "height": 1000
        },
        "id": "qivq2jiut0fH",
        "outputId": "11cc0d0b-2d82-436a-8046-0523b91ea9bd"
      },
      "execution_count": 14,
      "outputs": [
        {
          "output_type": "display_data",
          "data": {
            "text/plain": [
              "<PIL.Image.Image image mode=L size=540x180>"
            ],
            "image/png": "[encoded data removed]"
          },
          "metadata": {}
        },
        {
          "output_type": "stream",
          "name": "stdout",
          "text": [
            "(180, 540)\n",
            "(12, 90, 90)\n",
            "K\n"
          ]
        },
        {
          "output_type": "display_data",
          "data": {
            "text/plain": [
              "<PIL.Image.Image image mode=L size=90x90>"
            ],
            "image/png": "[encoded data removed]"
          },
          "metadata": {}
        },
        {
          "output_type": "stream",
          "name": "stdout",
          "text": [
            "Q\n"
          ]
        },
        {
          "output_type": "display_data",
          "data": {
            "text/plain": [
              "<PIL.Image.Image image mode=L size=90x90>"
            ],
            "image/png": "[encoded data removed]"
          },
          "metadata": {}
        },
        {
          "output_type": "stream",
          "name": "stdout",
          "text": [
            "B\n"
          ]
        },
        {
          "output_type": "display_data",
          "data": {
            "text/plain": [
              "<PIL.Image.Image image mode=L size=90x90>"
            ],
            "image/png": "[encoded data removed]"
          },
          "metadata": {}
        },
        {
          "output_type": "stream",
          "name": "stdout",
          "text": [
            "N\n"
          ]
        },
        {
          "output_type": "display_data",
          "data": {
            "text/plain": [
              "<PIL.Image.Image image mode=L size=90x90>"
            ],
            "image/png": "[encoded data removed]"
          },
          "metadata": {}
        },
        {
          "output_type": "stream",
          "name": "stdout",
          "text": [
            "R\n"
          ]
        },
        {
          "output_type": "display_data",
          "data": {
            "text/plain": [
              "<PIL.Image.Image image mode=L size=90x90>"
            ],
            "image/png": "[encoded data removed]"
          },
          "metadata": {}
        },
        {
          "output_type": "stream",
          "name": "stdout",
          "text": [
            "P\n"
          ]
        },
        {
          "output_type": "display_data",
          "data": {
            "text/plain": [
              "<PIL.Image.Image image mode=L size=90x90>"
            ],
            "image/png": "[encoded data removed]"
          },
          "metadata": {}
        },
        {
          "output_type": "stream",
          "name": "stdout",
          "text": [
            "k\n"
          ]
        },
        {
          "output_type": "display_data",
          "data": {
            "text/plain": [
              "<PIL.Image.Image image mode=L size=90x90>"
            ],
            "image/png": "[encoded data removed]"
          },
          "metadata": {}
        },
        {
          "output_type": "stream",
          "name": "stdout",
          "text": [
            "q\n"
          ]
        },
        {
          "output_type": "display_data",
          "data": {
            "text/plain": [
              "<PIL.Image.Image image mode=L size=90x90>"
            ],
            "image/png": "[encoded data removed]"
          },
          "metadata": {}
        },
        {
          "output_type": "stream",
          "name": "stdout",
          "text": [
            "b\n"
          ]
        },
        {
          "output_type": "display_data",
          "data": {
            "text/plain": [
              "<PIL.Image.Image image mode=L size=90x90>"
            ],
            "image/png": "[encoded data removed]"
          },
          "metadata": {}
        },
        {
          "output_type": "stream",
          "name": "stdout",
          "text": [
            "n\n"
          ]
        },
        {
          "output_type": "display_data",
          "data": {
            "text/plain": [
              "<PIL.Image.Image image mode=L size=90x90>"
            ],
            "image/png": "[encoded data removed]"
          },
          "metadata": {}
        },
        {
          "output_type": "stream",
          "name": "stdout",
          "text": [
            "r\n"
          ]
        },
        {
          "output_type": "display_data",
          "data": {
            "text/plain": [
              "<PIL.Image.Image image mode=L size=90x90>"
            ],
            "image/png": "[encoded data removed]"
          },
          "metadata": {}
        },
        {
          "output_type": "stream",
          "name": "stdout",
          "text": [
            "p\n"
          ]
        },
        {
          "output_type": "display_data",
          "data": {
            "text/plain": [
              "<PIL.Image.Image image mode=L size=90x90>"
            ],
            "image/png": "[encoded data removed]"
          },
          "metadata": {}
        },
        {
          "output_type": "display_data",
          "data": {
            "text/plain": [
              "<PIL.Image.Image image mode=L size=90x90>"
            ],
            "image/png": "[encoded data removed]"
          },
          "metadata": {}
        },
        {
          "output_type": "display_data",
          "data": {
            "text/plain": [
              "<PIL.Image.Image image mode=L size=90x90>"
            ],
            "image/png": "[encoded data removed]"
          },
          "metadata": {}
        },
        {
          "output_type": "display_data",
          "data": {
            "text/plain": [
              "<PIL.Image.Image image mode=L size=90x90>"
            ],
            "image/png": "[encoded data removed]"
          },
          "metadata": {}
        },
        {
          "output_type": "display_data",
          "data": {
            "text/plain": [
              "<PIL.Image.Image image mode=L size=90x90>"
            ],
            "image/png": "[encoded data removed]"
          },
          "metadata": {}
        },
        {
          "output_type": "display_data",
          "data": {
            "text/plain": [
              "<PIL.Image.Image image mode=L size=90x90>"
            ],
            "image/png": "[encoded data removed]"
          },
          "metadata": {}
        },
        {
          "output_type": "display_data",
          "data": {
            "text/plain": [
              "<PIL.Image.Image image mode=L size=90x90>"
            ],
            "image/png": "[encoded data removed]"
          },
          "metadata": {}
        },
        {
          "output_type": "display_data",
          "data": {
            "text/plain": [
              "<PIL.Image.Image image mode=L size=90x90>"
            ],
            "image/png": "[encoded data removed]"
          },
          "metadata": {}
        },
        {
          "output_type": "display_data",
          "data": {
            "text/plain": [
              "<PIL.Image.Image image mode=L size=90x90>"
            ],
            "image/png": "[encoded data removed]"
          },
          "metadata": {}
        },
        {
          "output_type": "display_data",
          "data": {
            "text/plain": [
              "<PIL.Image.Image image mode=L size=90x90>"
            ],
            "image/png": "[encoded data removed]"
          },
          "metadata": {}
        },
        {
          "output_type": "display_data",
          "data": {
            "text/plain": [
              "<PIL.Image.Image image mode=L size=90x90>"
            ],
            "image/png": "[encoded data removed]"
          },
          "metadata": {}
        },
        {
          "output_type": "display_data",
          "data": {
            "text/plain": [
              "<PIL.Image.Image image mode=L size=90x90>"
            ],
            "image/png": "[encoded data removed]"
          },
          "metadata": {}
        },
        {
          "output_type": "display_data",
          "data": {
            "text/plain": [
              "<PIL.Image.Image image mode=L size=90x90>"
            ],
            "image/png": "[encoded data removed]"
          },
          "metadata": {}
        }
      ]
    },
    {
      "cell_type": "markdown",
      "source": [
        "## Run examples"
      ],
      "metadata": {
        "id": "A8NVsjJ69UoT"
      }
    },
    {
      "cell_type": "code",
      "source": [
        "board_img = loadImage('data/board/l2.png')\n",
        "board_img, sq_size = cropChessboard(board_img)\n",
        "cv2_imshow(board_img)\n",
        "squares =splitBoard(board_img,sq_size)\n",
        "\n",
        "\n",
        "# cv2_imshow(squares[1][5])\n",
        "# pieceRecognizer(squares[1][5])\n",
        "\n",
        "FEN = \"\"\n",
        "for i in range(0, 8):\n",
        "    d = 0\n",
        "    for j in range(0, 8):\n",
        "        # print(pieceRecognizer(squares[i][j]), end=\" \")\n",
        "        p = pieceRecognizer(squares[i][j])\n",
        "        if p == \" \":\n",
        "            d+=1\n",
        "        else:\n",
        "            if d > 0:\n",
        "                FEN += str(d)\n",
        "                d = 0\n",
        "            FEN += p\n",
        "    if d > 0:\n",
        "        FEN += str(d)\n",
        "    if i < 7:\n",
        "        FEN += \"/\"\n",
        "\n",
        "print(FEN)"
      ],
      "metadata": {
        "colab": {
          "base_uri": "https://localhost:8080/",
          "height": 362
        },
        "id": "RYq37qwWBfw7",
        "outputId": "48286ce3-adfa-4cf6-b350-f184f7945674"
      },
      "execution_count": 15,
      "outputs": [
        {
          "output_type": "display_data",
          "data": {
            "text/plain": [
              "<PIL.Image.Image image mode=L size=328x328>"
            ],
            "image/png": "[encoded data removed]"
          },
          "metadata": {}
        },
        {
          "output_type": "stream",
          "name": "stdout",
          "text": [
            "R4R2/1RPKB2R/3P4/5B2/2bb4/1p6/2p3pp/1k2rr2\n"
          ]
        }
      ]
    }
  ]
}